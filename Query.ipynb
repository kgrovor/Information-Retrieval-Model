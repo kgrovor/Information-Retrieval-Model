{
 "cells": [
  {
   "cell_type": "code",
   "execution_count": 7,
   "metadata": {},
   "outputs": [
    {
     "name": "stdout",
     "output_type": "stream",
     "text": [
      "{'yolo': [2, 1], 'lol': [0, 2]}\n"
     ]
    }
   ],
   "source": [
    "import Data_Work as dw"
   ]
  },
  {
   "cell_type": "code",
   "execution_count": 10,
   "metadata": {},
   "outputs": [
    {
     "name": "stdout",
     "output_type": "stream",
     "text": [
      "[['yolo', 'lol']]\n"
     ]
    }
   ],
   "source": [
    "query = [\"yolo lol\"]\n",
    "proc_query = dw.basic(query)\n",
    "print(proc_query)"
   ]
  },
  {
   "cell_type": "code",
   "execution_count": 11,
   "metadata": {},
   "outputs": [
    {
     "name": "stdout",
     "output_type": "stream",
     "text": [
      "{'yolo': 1, 'lol': 1}\n"
     ]
    }
   ],
   "source": [
    "qtdm = {}\n",
    "for i in proc_query[0]:\n",
    "    if i not in qtdm:\n",
    "        qtdm[i]= dw.defaultlist([0])\n",
    "        qtdm[i] = 1\n",
    "\n",
    "    else:\n",
    "        if(docid > len(qtdm[i])-1):\n",
    "            qtdm[i] = 1\n",
    "        else:\n",
    "            qtdm[i] = qtdm[i] + 1\n",
    "print(qtdm)"
   ]
  },
  {
   "cell_type": "code",
   "execution_count": 12,
   "metadata": {},
   "outputs": [
    {
     "name": "stdout",
     "output_type": "stream",
     "text": [
      "[{'yolo': 0.0, 'lol': 0.21286035127455805}]\n"
     ]
    }
   ],
   "source": [
    "from math import *\n",
    "import numpy as np\n",
    "def tfidf(tdm,data):\n",
    "    docs_vect = []\n",
    "    vals = list(tdm.values())\n",
    "    for docid in range(len(data)):\n",
    "        vectmap = {}\n",
    "        vectmap.clear()\n",
    "        sq = 0\n",
    "        for a in vals:\n",
    "            sq = sq + pow(a,2)\n",
    "        sq = sqrt(sq)\n",
    "        for word in data[docid]:\n",
    "            tf = tdm[word]/sq\n",
    "            if word in dw.idfs:\n",
    "                idf = dw.idfs[word]\n",
    "            else:\n",
    "                idf = 0\n",
    "            \n",
    "            tfidf = tf * idf\n",
    "            vectmap[word] = tfidf\n",
    "        docs_vect.append(vectmap)\n",
    "    return docs_vect\n",
    "\n",
    "query_vect = tfidf(qtdm,proc_query)\n",
    "print(query_vect)"
   ]
  },
  {
   "cell_type": "code",
   "execution_count": null,
   "metadata": {
    "collapsed": true
   },
   "outputs": [],
   "source": []
  }
 ],
 "metadata": {
  "kernelspec": {
   "display_name": "Python 3",
   "language": "python",
   "name": "python3"
  },
  "language_info": {
   "codemirror_mode": {
    "name": "ipython",
    "version": 3
   },
   "file_extension": ".py",
   "mimetype": "text/x-python",
   "name": "python",
   "nbconvert_exporter": "python",
   "pygments_lexer": "ipython3",
   "version": "3.6.1"
  }
 },
 "nbformat": 4,
 "nbformat_minor": 2
}
