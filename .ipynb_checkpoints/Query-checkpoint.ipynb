{
 "cells": [
  {
   "cell_type": "code",
   "execution_count": 30,
   "metadata": {},
   "outputs": [],
   "source": [
    "import Data_Work as dw"
   ]
  },
  {
   "cell_type": "code",
   "execution_count": 40,
   "metadata": {},
   "outputs": [
    {
     "name": "stdout",
     "output_type": "stream",
     "text": [
      "[['gambhir', 'villag', 'twitter', 'indian', 'diplomat', 'delhiit', 'quit', 'familiar', 'pakistan', 'work', 'pakistan', 'divis', 'ministri', 'extern', 'affair', 'befor', 'post', 'new', 'york']]\n"
     ]
    }
   ],
   "source": [
    "query = [\"Gambhir, villagers Twitter as an Indian diplomat and a Delhiite, is quite familiar with Pakistan, having worked with the Pakistan division in the ministry of external affairs before being posted in New York.\"]\n",
    "proc_query = dw.basic(query)\n",
    "print(proc_query)"
   ]
  },
  {
   "cell_type": "code",
   "execution_count": 41,
   "metadata": {},
   "outputs": [
    {
     "name": "stdout",
     "output_type": "stream",
     "text": [
      "{'gambhir': 1, 'villag': 1, 'twitter': 1, 'indian': 1, 'diplomat': 1, 'delhiit': 1, 'quit': 1, 'familiar': 1, 'pakistan': 2, 'work': 1, 'divis': 1, 'ministri': 1, 'extern': 1, 'affair': 1, 'befor': 1, 'post': 1, 'new': 1, 'york': 1}\n"
     ]
    }
   ],
   "source": [
    "qtdm = {}\n",
    "for i in proc_query[0]:\n",
    "    if i not in qtdm:\n",
    "        qtdm[i]= dw.defaultlist([0])\n",
    "        qtdm[i] = 1\n",
    "\n",
    "    else:\n",
    "            qtdm[i] = qtdm[i] + 1\n",
    "print(qtdm)"
   ]
  },
  {
   "cell_type": "code",
   "execution_count": 42,
   "metadata": {},
   "outputs": [
    {
     "name": "stdout",
     "output_type": "stream",
     "text": [
      "[{'gambhir': 0.06569013055154391, 'villag': 0.06569013055154391, 'twitter': 0.06569013055154391, 'indian': 0.06569013055154391, 'diplomat': 0.06569013055154391, 'delhiit': 0.06569013055154391, 'quit': 0.06569013055154391, 'familiar': 0.06569013055154391, 'pakistan': 0.0, 'work': 0.06569013055154391, 'divis': 0.06569013055154391, 'ministri': 0.06569013055154391, 'extern': 0.06569013055154391, 'affair': 0.06569013055154391, 'befor': 0.06569013055154391, 'post': 0.06569013055154391, 'new': 0.06569013055154391, 'york': 0.06569013055154391}]\n"
     ]
    }
   ],
   "source": [
    "from math import *\n",
    "import numpy as np\n",
    "def tfidf(tdm,data):\n",
    "    docs_vect = []\n",
    "    vals = list(tdm.values())\n",
    "    for docid in range(len(data)):\n",
    "        vectmap = {}\n",
    "        vectmap.clear()\n",
    "        sq = 0\n",
    "        for a in vals:\n",
    "            sq = sq + pow(a,2)\n",
    "        sq = sqrt(sq)\n",
    "        for word in data[docid]:\n",
    "            tf = tdm[word]/sq\n",
    "            if word in dw.idfs:\n",
    "                idf = dw.idfs[word]\n",
    "            else:\n",
    "                idf = 0\n",
    "            \n",
    "            tfidf = tf * idf\n",
    "            vectmap[word] = tfidf\n",
    "        docs_vect.append(vectmap)\n",
    "    return docs_vect\n",
    "query_vect = tfidf(qtdm,proc_query)\n",
    "print(query_vect)\n",
    "qlist = np.array(list(query_vect[0].values()))\n",
    "query_norm = sqrt(np.sum(qlist**2))"
   ]
  },
  {
   "cell_type": "code",
   "execution_count": 43,
   "metadata": {},
   "outputs": [
    {
     "name": "stdout",
     "output_type": "stream",
     "text": [
      "[ 0.94117647  0.09335201]\n",
      "[0, 1]\n"
     ]
    }
   ],
   "source": [
    "import heapq\n",
    "scores = []\n",
    "for ech in dw.docs_vect:\n",
    "    med_sum = 0\n",
    "    ech_val = np.array(list(ech.values()))\n",
    "    doc_norm = sqrt(np.sum(ech_val**2))\n",
    "    b = doc_norm * query_norm\n",
    "    for i in query_vect[0]:\n",
    "        if i in ech:\n",
    "            a = ech[i]*query_vect[0][i]\n",
    "        else:\n",
    "            a = 0\n",
    "        med_sum = med_sum + a\n",
    "    scores.append(med_sum/b)\n",
    "\n",
    "scores = np.array(scores)\n",
    "print(scores)\n",
    "print(heapq.nlargest(10, range(len(scores)), scores.take))\n"
   ]
  },
  {
   "cell_type": "code",
   "execution_count": null,
   "metadata": {
    "collapsed": true
   },
   "outputs": [],
   "source": []
  }
 ],
 "metadata": {
  "kernelspec": {
   "display_name": "Python 3",
   "language": "python",
   "name": "python3"
  },
  "language_info": {
   "codemirror_mode": {
    "name": "ipython",
    "version": 3
   },
   "file_extension": ".py",
   "mimetype": "text/x-python",
   "name": "python",
   "nbconvert_exporter": "python",
   "pygments_lexer": "ipython3",
   "version": "3.6.1"
  }
 },
 "nbformat": 4,
 "nbformat_minor": 2
}
