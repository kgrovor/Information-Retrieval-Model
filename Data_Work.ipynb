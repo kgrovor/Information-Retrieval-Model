{
 "cells": [
  {
   "cell_type": "code",
   "execution_count": 1,
   "metadata": {
    "scrolled": true
   },
   "outputs": [
    {
     "name": "stdout",
     "output_type": "stream",
     "text": [
      "['wordA', 'wordD', 'wordZ']\n",
      "['wordA', 'wordB', 'wordC']\n"
     ]
    }
   ],
   "source": [
    "import nltk\n",
    "from nltk import word_tokenize\n",
    "import numpy as np\n",
    "#nltk.download()"
   ]
  },
  {
   "cell_type": "code",
   "execution_count": 3,
   "metadata": {
    "collapsed": true
   },
   "outputs": [],
   "source": [
    "class defaultlist(list):\n",
    "\n",
    "   def __setitem__(self, index, value):\n",
    "      size = len(self)\n",
    "      if index >= size:\n",
    "         self.extend(0 for _ in range(size, index + 1))\n",
    "\n",
    "      list.__setitem__(self, index, value)\n",
    "    "
   ]
  },
  {
   "cell_type": "code",
   "execution_count": 85,
   "metadata": {},
   "outputs": [
    {
     "name": "stdout",
     "output_type": "stream",
     "text": [
      "{'We': [1], 'are': [1], 'implementing': [1, 1], 'tf': [1], 'idf': [1], 'the': [0, 4]}\n"
     ]
    }
   ],
   "source": [
    "data = [\"We are implementing tf idf\",\" the the the the implementing\"]\n",
    "        \n",
    "        \n",
    "tdm = {}\n",
    "for docid in range(len(data)):\n",
    "    for i in word_tokenize(data[docid]):\n",
    "        \n",
    "        if i not in tdm:\n",
    "            tdm[i]= defaultlist([0])\n",
    "            tdm[i][docid] = 1\n",
    "        \n",
    "        else:\n",
    "                if(docid > len(tdm[i])-1):\n",
    "                    tdm[i][docid] = 1\n",
    "                else:\n",
    "                    tdm[i][docid] = tdm[i][docid] + 1\n",
    "\n",
    "print(tdm)"
   ]
  },
  {
   "cell_type": "code",
   "execution_count": 86,
   "metadata": {},
   "outputs": [
    {
     "name": "stdout",
     "output_type": "stream",
     "text": [
      "{'We': [1, 0], 'are': [1, 0], 'implementing': [1, 1], 'tf': [1, 0], 'idf': [1, 0], 'the': [0, 4]}\n"
     ]
    }
   ],
   "source": [
    "max_len = 0\n",
    "ln = 0\n",
    "for ech in tdm:\n",
    "    ln = len(tdm[ech])\n",
    "    #print(tdm[ech], \" \", len(tdm[ech]))\n",
    "    if(ln >= max_len):\n",
    "        max_len = ln\n",
    "#print(max_len) \n",
    "\n",
    "for ech in tdm:\n",
    "    if len(tdm[ech]) < max_len:\n",
    "        tdm[ech][max_len-1]=0\n",
    "        \n",
    "        \n",
    "print(tdm)"
   ]
  },
  {
   "cell_type": "code",
   "execution_count": 87,
   "metadata": {},
   "outputs": [
    {
     "name": "stdout",
     "output_type": "stream",
     "text": [
      "[{'We': 0.13462470671422574, 'are': 0.13462470671422574, 'implementing': 0.0, 'tf': 0.13462470671422574, 'idf': 0.13462470671422574}, {'the': 0.2920419926121931, 'implementing': 0.0}]\n"
     ]
    }
   ],
   "source": [
    "from math import *\n",
    "docs_vect = []\n",
    "vals = list(tdm.values())\n",
    "for docid in range(len(data)):\n",
    "    vectmap = {}\n",
    "    vectmap.clear()\n",
    "    sq = 0\n",
    "    for a in vals:\n",
    "        #print(a)\n",
    "        sq = sq + (a[docid] * a[docid])\n",
    "        #print(a[docid], \" a \")\n",
    "    #print(sq, \"aa\")\n",
    "    sq = sqrt(sq)\n",
    "    #print(sq , \" |\")\n",
    "    for word in word_tokenize(data[docid]):\n",
    "        tf = tdm[word][docid]/sq\n",
    "        #print(tf)\n",
    "        idf = log(len(data)/np.count_nonzero(tdm[word]),10)\n",
    "        #print(\"idf = \", idf)\n",
    "        tfidf = tf * idf\n",
    "        vectmap[word] = tfidf\n",
    "    docs_vect.append(vectmap)\n",
    "    \n",
    "print(docs_vect)\n",
    "        "
   ]
  },
  {
   "cell_type": "code",
   "execution_count": 58,
   "metadata": {},
   "outputs": [
    {
     "name": "stdout",
     "output_type": "stream",
     "text": [
      "[[1, 1], [2], [0, 1]]\n"
     ]
    }
   ],
   "source": [
    "vals = list(tdm.values())\n",
    "print(vals)"
   ]
  }
 ],
 "metadata": {
  "kernelspec": {
   "display_name": "Python 3",
   "language": "python",
   "name": "python3"
  },
  "language_info": {
   "codemirror_mode": {
    "name": "ipython",
    "version": 3
   },
   "file_extension": ".py",
   "mimetype": "text/x-python",
   "name": "python",
   "nbconvert_exporter": "python",
   "pygments_lexer": "ipython3",
   "version": "3.6.1"
  }
 },
 "nbformat": 4,
 "nbformat_minor": 2
}
