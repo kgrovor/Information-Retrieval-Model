{
 "cells": [
  {
   "cell_type": "code",
   "execution_count": 5,
   "metadata": {
    "scrolled": true
   },
   "outputs": [],
   "source": [
    "import nltk\n",
    "from nltk import word_tokenize\n",
    "from nltk.corpus import stopwords\n",
    "import numpy as np\n",
    "from nltk.stem import PorterStemmer\n",
    "#nltk.download()"
   ]
  },
  {
   "cell_type": "code",
   "execution_count": 11,
   "metadata": {},
   "outputs": [
    {
     "name": "stdout",
     "output_type": "stream",
     "text": [
      "[['iphon', '8', '8', 'plu', 'two', 'three', 'new', 'iphon', 'appl', '’', '2017', 'lineup', 'went', 'sale', 'around', 'world', 'start', 'australia', 'hundr', 'peopl', 'usual', 'gather', 'outsid', 'appl', '’', 'sydney', 'citi', 'store', 'previou', 'launch', 'instead', 'queue', 'wind', 'street', 'fewer', '30', 'peopl', 'line', 'befor', 'store', 'open', 'friday'], ['first', 'east', 'central', 'univers', '—', 'public', 'univers', '4,000', 'student', 'ada', '80', 'mile', '130', 'kilomet', 'southeast', 'oklahoma', 'citi', '—', 'compli', 'request', 'american', 'unit', 'separ', 'church', 'state', 'remov', 'bibl', 'christian-them', 'item', 'colonial-styl', 'chapel', 'wa', 'donat', 'longtim', 'regent', '1957', 'befor', 'cross', 'could', 'taken', 'matter', 'drawn', 'attent', 'religi', 'leader', 'well', 'oklahoma', \"'s\", 'republican', 'attorney', 'gener', 'run', 're-elect', 'next', 'year']]\n"
     ]
    }
   ],
   "source": [
    "data = [\"The iPhone 8 and 8 Plus, two of the three new iPhones in Apple’s 2017 lineup, went on sale around the world, starting in Australia where hundreds of people have usually gathered outside Apple’s Sydney city store for previous launches. But instead of queues winding down the street there were fewer than 30 people lining up before the store opened on Friday.\",\" At first, East Central University — a public university with 4,000 students in Ada, about 80 miles (130 kilometers) southeast of Oklahoma City — complied with the request from Americans United for Separation of Church and State, removing Bibles and other Christian-themed items from the colonial-style chapel that was donated by a longtime regent in 1957. But before the cross could be taken down, the matter had drawn the attention of religious leaders as well as Oklahoma's Republican attorney general, who is running for re-election next year.\"]\n",
    "\n",
    "\n",
    "def basic(data):\n",
    "    proc_data = []\n",
    "    stop_words = set(stopwords.words('english'))\n",
    "    stop_words.update(['.', ',', '\"', \"'\", '?', '!', ':', ';', '(', ')', '[', ']', '{', '}'])\n",
    "    for doc in data:\n",
    "        proc_data.append([i.lower() for i in (PorterStemmer().stem(x) for x in word_tokenize(doc)) if i.lower() not in stop_words])\n",
    "    return proc_data\n",
    "\n",
    "    \n",
    "data = basic(data)\n",
    "print(data)"
   ]
  },
  {
   "cell_type": "code",
   "execution_count": 12,
   "metadata": {
    "collapsed": true
   },
   "outputs": [],
   "source": [
    "class defaultlist(list):\n",
    "\n",
    "   def __setitem__(self, index, value):\n",
    "      size = len(self)\n",
    "      if index >= size:\n",
    "         self.extend(0 for _ in range(size, index + 1))\n",
    "\n",
    "      list.__setitem__(self, index, value)\n",
    "    "
   ]
  },
  {
   "cell_type": "code",
   "execution_count": 13,
   "metadata": {},
   "outputs": [
    {
     "name": "stdout",
     "output_type": "stream",
     "text": [
      "{'iphon': [2], '8': [2], 'plu': [1], 'two': [1], 'three': [1], 'new': [1], 'appl': [2], '’': [2], '2017': [1], 'lineup': [1], 'went': [1], 'sale': [1], 'around': [1], 'world': [1], 'start': [1], 'australia': [1], 'hundr': [1], 'peopl': [2], 'usual': [1], 'gather': [1], 'outsid': [1], 'sydney': [1], 'citi': [1, 1], 'store': [2], 'previou': [1], 'launch': [1], 'instead': [1], 'queue': [1], 'wind': [1], 'street': [1], 'fewer': [1], '30': [1], 'line': [1], 'befor': [1, 1], 'open': [1], 'friday': [1], 'first': [0, 1], 'east': [0, 1], 'central': [0, 1], 'univers': [0, 2], '—': [0, 2], 'public': [0, 1], '4,000': [0, 1], 'student': [0, 1], 'ada': [0, 1], '80': [0, 1], 'mile': [0, 1], '130': [0, 1], 'kilomet': [0, 1], 'southeast': [0, 1], 'oklahoma': [0, 2], 'compli': [0, 1], 'request': [0, 1], 'american': [0, 1], 'unit': [0, 1], 'separ': [0, 1], 'church': [0, 1], 'state': [0, 1], 'remov': [0, 1], 'bibl': [0, 1], 'christian-them': [0, 1], 'item': [0, 1], 'colonial-styl': [0, 1], 'chapel': [0, 1], 'wa': [0, 1], 'donat': [0, 1], 'longtim': [0, 1], 'regent': [0, 1], '1957': [0, 1], 'cross': [0, 1], 'could': [0, 1], 'taken': [0, 1], 'matter': [0, 1], 'drawn': [0, 1], 'attent': [0, 1], 'religi': [0, 1], 'leader': [0, 1], 'well': [0, 1], \"'s\": [0, 1], 'republican': [0, 1], 'attorney': [0, 1], 'gener': [0, 1], 'run': [0, 1], 're-elect': [0, 1], 'next': [0, 1], 'year': [0, 1]}\n"
     ]
    }
   ],
   "source": [
    "#data = [\"We are implementing tf idf\",\" the the the the implementing\"]\n",
    "        \n",
    "        \n",
    "tdm = {}\n",
    "for docid in range(len(data)):\n",
    "    for i in data[docid]:\n",
    "        \n",
    "        if i not in tdm:\n",
    "            tdm[i]= defaultlist([0])\n",
    "            tdm[i][docid] = 1\n",
    "        \n",
    "        else:\n",
    "                if(docid > len(tdm[i])-1):\n",
    "                    tdm[i][docid] = 1\n",
    "                else:\n",
    "                    tdm[i][docid] = tdm[i][docid] + 1\n",
    "\n",
    "print(tdm)"
   ]
  },
  {
   "cell_type": "code",
   "execution_count": 16,
   "metadata": {},
   "outputs": [
    {
     "name": "stdout",
     "output_type": "stream",
     "text": [
      "{'iphon': [2, 0], '8': [2, 0], 'plu': [1, 0], 'two': [1, 0], 'three': [1, 0], 'new': [1, 0], 'appl': [2, 0], '’': [2, 0], '2017': [1, 0], 'lineup': [1, 0], 'went': [1, 0], 'sale': [1, 0], 'around': [1, 0], 'world': [1, 0], 'start': [1, 0], 'australia': [1, 0], 'hundr': [1, 0], 'peopl': [2, 0], 'usual': [1, 0], 'gather': [1, 0], 'outsid': [1, 0], 'sydney': [1, 0], 'citi': [1, 1], 'store': [2, 0], 'previou': [1, 0], 'launch': [1, 0], 'instead': [1, 0], 'queue': [1, 0], 'wind': [1, 0], 'street': [1, 0], 'fewer': [1, 0], '30': [1, 0], 'line': [1, 0], 'befor': [1, 1], 'open': [1, 0], 'friday': [1, 0], 'first': [0, 1], 'east': [0, 1], 'central': [0, 1], 'univers': [0, 2], '—': [0, 2], 'public': [0, 1], '4,000': [0, 1], 'student': [0, 1], 'ada': [0, 1], '80': [0, 1], 'mile': [0, 1], '130': [0, 1], 'kilomet': [0, 1], 'southeast': [0, 1], 'oklahoma': [0, 2], 'compli': [0, 1], 'request': [0, 1], 'american': [0, 1], 'unit': [0, 1], 'separ': [0, 1], 'church': [0, 1], 'state': [0, 1], 'remov': [0, 1], 'bibl': [0, 1], 'christian-them': [0, 1], 'item': [0, 1], 'colonial-styl': [0, 1], 'chapel': [0, 1], 'wa': [0, 1], 'donat': [0, 1], 'longtim': [0, 1], 'regent': [0, 1], '1957': [0, 1], 'cross': [0, 1], 'could': [0, 1], 'taken': [0, 1], 'matter': [0, 1], 'drawn': [0, 1], 'attent': [0, 1], 'religi': [0, 1], 'leader': [0, 1], 'well': [0, 1], \"'s\": [0, 1], 'republican': [0, 1], 'attorney': [0, 1], 'gener': [0, 1], 'run': [0, 1], 're-elect': [0, 1], 'next': [0, 1], 'year': [0, 1]}\n"
     ]
    }
   ],
   "source": [
    "for ech in tdm:\n",
    "    if len(tdm[ech]) < len(data):\n",
    "        tdm[ech][len(data)-1]=0\n",
    "        \n",
    "print(tdm)"
   ]
  },
  {
   "cell_type": "code",
   "execution_count": 18,
   "metadata": {},
   "outputs": [
    {
     "name": "stdout",
     "output_type": "stream",
     "text": [
      "[{'iphon': 0.08192998740544294, '8': 0.08192998740544294, 'plu': 0.04096499370272147, 'two': 0.04096499370272147, 'three': 0.04096499370272147, 'new': 0.04096499370272147, 'appl': 0.08192998740544294, '’': 0.08192998740544294, '2017': 0.04096499370272147, 'lineup': 0.04096499370272147, 'went': 0.04096499370272147, 'sale': 0.04096499370272147, 'around': 0.04096499370272147, 'world': 0.04096499370272147, 'start': 0.04096499370272147, 'australia': 0.04096499370272147, 'hundr': 0.04096499370272147, 'peopl': 0.08192998740544294, 'usual': 0.04096499370272147, 'gather': 0.04096499370272147, 'outsid': 0.04096499370272147, 'sydney': 0.04096499370272147, 'citi': 0.0, 'store': 0.08192998740544294, 'previou': 0.04096499370272147, 'launch': 0.04096499370272147, 'instead': 0.04096499370272147, 'queue': 0.04096499370272147, 'wind': 0.04096499370272147, 'street': 0.04096499370272147, 'fewer': 0.04096499370272147, '30': 0.04096499370272147, 'line': 0.04096499370272147, 'befor': 0.0, 'open': 0.04096499370272147, 'friday': 0.04096499370272147}, {'first': 0.03854294141102935, 'east': 0.03854294141102935, 'central': 0.03854294141102935, 'univers': 0.0770858828220587, '—': 0.0770858828220587, 'public': 0.03854294141102935, '4,000': 0.03854294141102935, 'student': 0.03854294141102935, 'ada': 0.03854294141102935, '80': 0.03854294141102935, 'mile': 0.03854294141102935, '130': 0.03854294141102935, 'kilomet': 0.03854294141102935, 'southeast': 0.03854294141102935, 'oklahoma': 0.0770858828220587, 'citi': 0.0, 'compli': 0.03854294141102935, 'request': 0.03854294141102935, 'american': 0.03854294141102935, 'unit': 0.03854294141102935, 'separ': 0.03854294141102935, 'church': 0.03854294141102935, 'state': 0.03854294141102935, 'remov': 0.03854294141102935, 'bibl': 0.03854294141102935, 'christian-them': 0.03854294141102935, 'item': 0.03854294141102935, 'colonial-styl': 0.03854294141102935, 'chapel': 0.03854294141102935, 'wa': 0.03854294141102935, 'donat': 0.03854294141102935, 'longtim': 0.03854294141102935, 'regent': 0.03854294141102935, '1957': 0.03854294141102935, 'befor': 0.0, 'cross': 0.03854294141102935, 'could': 0.03854294141102935, 'taken': 0.03854294141102935, 'matter': 0.03854294141102935, 'drawn': 0.03854294141102935, 'attent': 0.03854294141102935, 'religi': 0.03854294141102935, 'leader': 0.03854294141102935, 'well': 0.03854294141102935, \"'s\": 0.03854294141102935, 'republican': 0.03854294141102935, 'attorney': 0.03854294141102935, 'gener': 0.03854294141102935, 'run': 0.03854294141102935, 're-elect': 0.03854294141102935, 'next': 0.03854294141102935, 'year': 0.03854294141102935}]\n"
     ]
    }
   ],
   "source": [
    "from math import *\n",
    "docs_vect = []\n",
    "vals = list(tdm.values())\n",
    "for docid in range(len(data)):\n",
    "    vectmap = {}\n",
    "    vectmap.clear()\n",
    "    sq = 0\n",
    "    for a in vals:\n",
    "        sq = sq + (a[docid] * a[docid])\n",
    "    sq = sqrt(sq)\n",
    "    for word in data[docid]:\n",
    "        tf = tdm[word][docid]/sq\n",
    "        idf = log(len(data)/np.count_nonzero(tdm[word]),10)\n",
    "        tfidf = tf * idf\n",
    "        vectmap[word] = tfidf\n",
    "    docs_vect.append(vectmap)\n",
    "    \n",
    "print(docs_vect)\n",
    "        "
   ]
  },
  {
   "cell_type": "code",
   "execution_count": null,
   "metadata": {
    "collapsed": true
   },
   "outputs": [],
   "source": []
  }
 ],
 "metadata": {
  "kernelspec": {
   "display_name": "Python 3",
   "language": "python",
   "name": "python3"
  },
  "language_info": {
   "codemirror_mode": {
    "name": "ipython",
    "version": 3
   },
   "file_extension": ".py",
   "mimetype": "text/x-python",
   "name": "python",
   "nbconvert_exporter": "python",
   "pygments_lexer": "ipython3",
   "version": "3.6.1"
  }
 },
 "nbformat": 4,
 "nbformat_minor": 2
}
