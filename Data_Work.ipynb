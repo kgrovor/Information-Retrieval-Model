{
 "cells": [
  {
   "cell_type": "code",
   "execution_count": null,
   "metadata": {
    "collapsed": true,
    "scrolled": true
   },
   "outputs": [],
   "source": [
    "import nltk\n",
    "from nltk import word_tokenize\n",
    "from nltk.corpus import stopwords\n",
    "import numpy as np\n",
    "from nltk.stem import PorterStemmer\n",
    "#nltk.download()"
   ]
  },
  {
   "cell_type": "code",
   "execution_count": null,
   "metadata": {},
   "outputs": [],
   "source": [
    "from sklearn.datasets import fetch_20newsgroups\n",
    "cats = ['alt.atheism']\n",
    "newsgroups_train = fetch_20newsgroups(subset='train', categories=cats)\n",
    "\n",
    "#print(newsgroups_train.data)"
   ]
  },
  {
   "cell_type": "code",
   "execution_count": null,
   "metadata": {},
   "outputs": [],
   "source": [
    "#data = [\"Gambhir, +-----------------------------------+ who describes herself on Twitter as an Indian diplomat and a Delhiite, is quite familiar with Pakistan, having worked with the Pakistan division in the ministry of external affairs before being posted in New York.\",\"At least six Pakistani villagers were killed and 26 were wounded in an overnight attack by India in the disputed Himalayan region of Kashmir, Pakistan’s military said Friday, adding that hundreds of villagers were forced to move to safer places.\"]\n",
    "data = newsgroups_train.data\n",
    "def basic(data):\n",
    "    proc_data = []\n",
    "    stop_words = set(stopwords.words('english'))\n",
    "    stop_words.update(['.','--','+','>','-+' ,',', '\"', \"'\", '?', '!', ':', ';', '(', ')', '[', ']', '{', '}'])\n",
    "    for doc in data:\n",
    "        proc_data.append([i.lower() for i in (PorterStemmer().stem(x) for x in word_tokenize(doc)) if i.lower() not in stop_words])\n",
    "    return proc_data\n",
    "\n",
    "    \n",
    "data = basic(data)\n",
    "print(data)"
   ]
  },
  {
   "cell_type": "code",
   "execution_count": null,
   "metadata": {
    "collapsed": true
   },
   "outputs": [],
   "source": [
    "class defaultlist(list):\n",
    "\n",
    "   def __setitem__(self, index, value):\n",
    "      size = len(self)\n",
    "      if index >= size:\n",
    "         self.extend(0 for _ in range(size, index + 1))\n",
    "\n",
    "      list.__setitem__(self, index, value)\n",
    "    "
   ]
  },
  {
   "cell_type": "code",
   "execution_count": null,
   "metadata": {},
   "outputs": [],
   "source": [
    "#data = [\"We are implementing tf idf\",\" the the the the implementing\"]\n",
    "tdm = {}\n",
    "def make_tdm(data,tdm): \n",
    "    for docid in range(len(data)):\n",
    "        for i in data[docid]:\n",
    "\n",
    "            if i not in tdm:\n",
    "                tdm[i]= defaultlist([0])\n",
    "                tdm[i][docid] = 1\n",
    "\n",
    "            else:\n",
    "                    if(docid > len(tdm[i])-1):\n",
    "                        tdm[i][docid] = 1\n",
    "                    else:\n",
    "                        tdm[i][docid] = tdm[i][docid] + 1\n",
    "    for ech in tdm:\n",
    "        if len(tdm[ech]) < len(data):\n",
    "            tdm[ech][len(data)-1]=0\n",
    "    return tdm\n",
    "tdm = make_tdm(data,tdm)\n",
    "print(tdm)"
   ]
  },
  {
   "cell_type": "code",
   "execution_count": null,
   "metadata": {},
   "outputs": [],
   "source": [
    "from math import *\n",
    "#Optimise idf\n",
    "idfs = {}\n",
    "def tfidf(tdm):\n",
    "    docs_vect = []\n",
    "    vals = list(tdm.values())\n",
    "    for docid in range(len(data)):\n",
    "        vectmap = {}\n",
    "        vectmap.clear()\n",
    "        sq = 0\n",
    "        for a in vals:\n",
    "            sq = sq + (a[docid] * a[docid])\n",
    "        sq = sqrt(sq)\n",
    "        for word in data[docid]:\n",
    "            tf = tdm[word][docid]/sq\n",
    "            idf = log(len(data)/np.count_nonzero(tdm[word]),10)\n",
    "            idfs[word] = idf\n",
    "            tfidf = tf * idf\n",
    "            vectmap[word] = tfidf\n",
    "        docs_vect.append(vectmap)\n",
    "    return docs_vect\n",
    "docs_vect = tfidf(tdm)\n",
    "print(docs_vect)\n",
    "        "
   ]
  },
  {
   "cell_type": "code",
   "execution_count": null,
   "metadata": {
    "collapsed": true
   },
   "outputs": [],
   "source": []
  },
  {
   "cell_type": "code",
   "execution_count": null,
   "metadata": {
    "collapsed": true
   },
   "outputs": [],
   "source": []
  }
 ],
 "metadata": {
  "kernelspec": {
   "display_name": "Python 3",
   "language": "python",
   "name": "python3"
  },
  "language_info": {
   "codemirror_mode": {
    "name": "ipython",
    "version": 3
   },
   "file_extension": ".py",
   "mimetype": "text/x-python",
   "name": "python",
   "nbconvert_exporter": "python",
   "pygments_lexer": "ipython3",
   "version": "3.6.1"
  }
 },
 "nbformat": 4,
 "nbformat_minor": 2
}
