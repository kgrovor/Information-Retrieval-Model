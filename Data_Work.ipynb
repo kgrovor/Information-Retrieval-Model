{
 "cells": [
  {
   "cell_type": "code",
   "execution_count": 6,
   "metadata": {
    "scrolled": true
   },
   "outputs": [
    {
     "name": "stdout",
     "output_type": "stream",
     "text": [
      "['wordA', 'wordD', 'wordZ']\n",
      "['wordA', 'wordB', 'wordC']\n"
     ]
    }
   ],
   "source": [
    "import nltk\n",
    "from nltk import word_tokenize\n",
    "#nltk.download()\n",
    "data = [\"wordA wordD wordZ\",\" wordA wordB wordC\"]\n",
    "for i in data:\n",
    "    print(word_tokenize(i))\n",
    "    \n"
   ]
  },
  {
   "cell_type": "code",
   "execution_count": 7,
   "metadata": {},
   "outputs": [
    {
     "ename": "SyntaxError",
     "evalue": "invalid syntax (<ipython-input-7-98aaa5483109>, line 1)",
     "output_type": "error",
     "traceback": [
      "\u001b[0;36m  File \u001b[0;32m\"<ipython-input-7-98aaa5483109>\"\u001b[0;36m, line \u001b[0;32m1\u001b[0m\n\u001b[0;31m    for i in len(data);\u001b[0m\n\u001b[0m                      ^\u001b[0m\n\u001b[0;31mSyntaxError\u001b[0m\u001b[0;31m:\u001b[0m invalid syntax\n"
     ]
    }
   ],
   "source": [
    "for i in len(data);\n",
    "    words = word_tokenize(data[i])\n",
    "    for l in words\n",
    "        \n",
    "        \n",
    "        "
   ]
  },
  {
   "cell_type": "code",
   "execution_count": 8,
   "metadata": {
    "collapsed": true
   },
   "outputs": [],
   "source": [
    "class defaultlist(list):\n",
    "\n",
    "   def __setitem__(self, index, value):\n",
    "      size = len(self)\n",
    "      if index >= size:\n",
    "         self.extend(0 for _ in range(size, index + 1))\n",
    "\n",
    "      list.__setitem__(self, index, value)\n",
    "    "
   ]
  },
  {
   "cell_type": "code",
   "execution_count": 35,
   "metadata": {},
   "outputs": [
    {
     "name": "stdout",
     "output_type": "stream",
     "text": [
      "{'Disha': [7], 'is': [1], 'my': [1], 'favorite': [1], 'hooman': [1], 'being': [1]}\n"
     ]
    }
   ],
   "source": [
    "doc = \"Disha is my favorite hooman being Disha Disha Disha Disha Disha Disha \"\n",
    "\n",
    "tdm = {}\n",
    "docid = 0\n",
    "for i in word_tokenize(doc):\n",
    "    if i not in tdm:\n",
    "        tdm[i]= defaultlist([0])\n",
    "        tdm[i][docid] = 1\n",
    "        \n",
    "    else:\n",
    "        tdm[i][docid] = tdm[i][docid] + 1\n",
    "    \n",
    "print(tdm)\n",
    "    "
   ]
  },
  {
   "cell_type": "code",
   "execution_count": 48,
   "metadata": {},
   "outputs": [
    {
     "name": "stdout",
     "output_type": "stream",
     "text": [
      "{'Disha': [2, 1], 'is': [2, 1], 'my': [1], 'favorite': [1], 'hooman': [1], 'being': [1], 'she': [1], 'amazeballs': [2], 'going': [0, 1], 'to': [0, 1], 'nashik': [0, 1]}\n"
     ]
    }
   ],
   "source": [
    "\n",
    "\n",
    "doc = \"Disha is my favorite hooman being Disha she is amazeballs amazeballs\"\n",
    "data = [\"Disha is my favorite hooman being Disha she is amazeballs amazeballs\",\" Disha is going to nashik\"]\n",
    "tdm = {}\n",
    "for docid in range(len(data)):\n",
    "    for i in word_tokenize(data[docid]):\n",
    "        \n",
    "        if i not in tdm:\n",
    "            tdm[i]= defaultlist([0])\n",
    "            tdm[i][docid] = 1\n",
    "        \n",
    "        else:\n",
    "                if(docid > len(tdm[i])-1):\n",
    "                    tdm[i][docid] = 1\n",
    "                else:\n",
    "                    tdm[i][docid] = tdm[i][docid] + 1\n",
    "    \n",
    "print(tdm)"
   ]
  },
  {
   "cell_type": "code",
   "execution_count": null,
   "metadata": {
    "collapsed": true
   },
   "outputs": [],
   "source": []
  }
 ],
 "metadata": {
  "kernelspec": {
   "display_name": "Python 3",
   "language": "python",
   "name": "python3"
  },
  "language_info": {
   "codemirror_mode": {
    "name": "ipython",
    "version": 3
   },
   "file_extension": ".py",
   "mimetype": "text/x-python",
   "name": "python",
   "nbconvert_exporter": "python",
   "pygments_lexer": "ipython3",
   "version": "3.6.1"
  }
 },
 "nbformat": 4,
 "nbformat_minor": 2
}
